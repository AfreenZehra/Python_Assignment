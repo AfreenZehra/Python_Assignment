{
 "cells": [
  {
   "cell_type": "code",
   "execution_count": 1,
   "metadata": {},
   "outputs": [
    {
     "name": "stdout",
     "output_type": "stream",
     "text": [
      "Key: first name   Value: Batool\n",
      "Key: last name   Value: Zehra\n",
      "Key: age   Value: 29\n",
      "Key: city   Value: karachi\n",
      "\n",
      "Key: first name   Value: Batool\n",
      "Key: last name   Value: Zehra\n",
      "Key: age   Value: 29\n",
      "Key: city   Value: karachi\n",
      "Key: qualification   Value: MBA\n",
      "\n",
      "Key: first name   Value: Batool\n",
      "Key: last name   Value: Zehra\n",
      "Key: age   Value: 29\n",
      "Key: city   Value: karachi\n",
      "Key: qualification   Value: to academic level\n",
      "\n",
      "Key: first name   Value: Batool\n",
      "Key: last name   Value: Zehra\n",
      "Key: age   Value: 29\n",
      "Key: city   Value: karachi\n"
     ]
    }
   ],
   "source": [
    "person = {\n",
    "    \"first name\": \"Batool\",\n",
    "    \"last name\": \"Zehra\",\n",
    "    \"age\": 29,\n",
    "    \"city\": \"karachi\"\n",
    "}\n",
    "for eachkey,eachvalue in person.items():\n",
    "    print(\"Key:\",eachkey,\"  Value:\",eachvalue)\n",
    "\n",
    "print()\n",
    "person[\"qualification\"] = \"MBA\"\n",
    "for eachkey,eachvalue in person.items():\n",
    "    print(\"Key:\",eachkey,\"  Value:\",eachvalue)\n",
    "    \n",
    "print()\n",
    "person[\"qualification\"] = \"to academic level\"\n",
    "for eachkey,eachvalue in person.items():\n",
    "    print(\"Key:\",eachkey,\"  Value:\",eachvalue)\n",
    "    \n",
    "print()\n",
    "del person[\"qualification\"]\n",
    "for eachkey,eachvalue in person.items():\n",
    "    print(\"Key:\",eachkey,\"  Value:\",eachvalue)"
   ]
  },
  {
   "cell_type": "code",
   "execution_count": 2,
   "metadata": {},
   "outputs": [
    {
     "name": "stdout",
     "output_type": "stream",
     "text": [
      "Key:  Karachi \n",
      "Values:\n",
      " {'info': \"It is the cultural, economic, philanthropic, educational, and political hub of the country, and Pakistan's most cosmopolitan city.\", 'country': 'Pakistan', 'population': '14.91 millions', 'fact': 'The largest volunteer ambulance service in the world is in Karachi by the name of Edhi organization.'} \n",
      "\n",
      "Key:  Mashhad \n",
      "Values:\n",
      " {'info': 'The city is named after the shrine of Imam Reza, the eighth Shia Imam. The Imam was buried in a village in Khorasan, which afterwards gained the name Mashhad, meaning the place of martyrdom.', 'country': 'Iran', 'population': '3.001 millions', 'fact': '55% of Iran’s hotels are in Mashhad.'} \n",
      "\n",
      "Key:  Amsterdam \n",
      "Values:\n",
      " {'info': \"Amsterdam's name derives from Amstelredamme, indicative of the city's origin around a dam in the river Amstel.\", 'country': 'Netherland', 'population': '8.67 Lacs', 'fact': 'Amsterdam has 165 canals, which is in total more than 100 kilometres.'} \n",
      "\n"
     ]
    }
   ],
   "source": [
    "cities = {\n",
    "    \"Karachi\": {\n",
    "        \"info\": \"It is the cultural, economic, philanthropic, educational, and political hub of the country, and Pakistan's most cosmopolitan city.\",\n",
    "        \"country\": \"Pakistan\",\n",
    "        \"population\": \"14.91 millions\",\n",
    "        \"fact\": \"The largest volunteer ambulance service in the world is in Karachi by the name of Edhi organization.\"\n",
    "    },\n",
    "    \"Mashhad\": {\n",
    "        \"info\": \"The city is named after the shrine of Imam Reza, the eighth Shia Imam. The Imam was buried in a village in Khorasan, which afterwards gained the name Mashhad, meaning the place of martyrdom.\",\n",
    "        \"country\": \"Iran\",\n",
    "        \"population\": \"3.001 millions\",\n",
    "        \"fact\": \"55% of Iran’s hotels are in Mashhad.\"\n",
    "    },\n",
    "    \"Amsterdam\": {\n",
    "        \"info\": \"Amsterdam's name derives from Amstelredamme, indicative of the city's origin around a dam in the river Amstel.\",\n",
    "        \"country\": \"Netherland\",\n",
    "        \"population\": \"8.67 Lacs\",\n",
    "        \"fact\": \"Amsterdam has 165 canals, which is in total more than 100 kilometres.\"\n",
    "    }\n",
    "}\n",
    "for eachkey in cities.keys():\n",
    "    print(\"Key: \",eachkey,\"\\nValues:\\n\",cities[eachkey],\"\\n\")"
   ]
  },
  {
   "cell_type": "code",
   "execution_count": 3,
   "metadata": {},
   "outputs": [
    {
     "name": "stdout",
     "output_type": "stream",
     "text": [
      "Enter your age for movie tickets: 32\n",
      "Ticket price is $15\n",
      "If more persons want tickets enter 1: 1\n",
      "Enter your age for movie tickets: 29\n",
      "Ticket price is $15\n",
      "If more persons want tickets enter 1: 1\n",
      "Enter your age for movie tickets: 24\n",
      "Ticket price is $15\n",
      "If more persons want tickets enter 1: 0\n",
      "Total cost is 45\n"
     ]
    }
   ],
   "source": [
    "a = 1\n",
    "total_cost = 0\n",
    "while a == 1:\n",
    "    age = int(input(\"Enter your age for movie tickets: \"))\n",
    "    if(age >= 0 and age < 3):\n",
    "        print(\"Ticket is free for a child\")\n",
    "    elif(age > 3 and age <= 12):\n",
    "        print(\"Ticket price is $10\")\n",
    "        total_cost += 12\n",
    "    else:\n",
    "        print(\"Ticket price is $15\")\n",
    "        total_cost += 15\n",
    "    a = int(input(\"If more persons want tickets enter 1: \"))\n",
    "print(\"Total cost is\",total_cost)"
   ]
  },
  {
   "cell_type": "code",
   "execution_count": 4,
   "metadata": {},
   "outputs": [
    {
     "name": "stdout",
     "output_type": "stream",
     "text": [
      "Enter book name: Pir-e-Kamil\n",
      "My favourite book is Pir-e-Kamil\n"
     ]
    }
   ],
   "source": [
    "def fav_book(title):\n",
    "    print(\"My favourite book is\",title)\n",
    "\n",
    "title = input(\"Enter book name: \")\n",
    "fav_book(title)"
   ]
  },
  {
   "cell_type": "code",
   "execution_count": 5,
   "metadata": {},
   "outputs": [
    {
     "name": "stdout",
     "output_type": "stream",
     "text": [
      "Guess the number between 1 to 30 you have only 3 chances: 23\n",
      "Please guess some smaller number\n",
      "\n",
      "Guess the number between 1 to 30 you have only 3 chances: 19\n",
      "Your guess is correct\n",
      "\n"
     ]
    }
   ],
   "source": [
    "from random import randint\n",
    "number = randint(1,30)\n",
    "chance = 0\n",
    "while (chance < 3):\n",
    "    chance += 1\n",
    "    user_num = int(input(\"Guess the number between 1 to 30 you have only 3 chances: \"))\n",
    "    if (user_num == number):\n",
    "        chance = 0\n",
    "        print(\"Your guess is correct\\n\")\n",
    "        break\n",
    "    elif(user_num < number and chance < 3):\n",
    "        print(\"Please guess some greater number\\n\")\n",
    "    elif(user_num > number and chance < 3):\n",
    "        print(\"Please guess some smaller number\\n\")\n",
    "if (chance == 3):\n",
    "    print(\"\\n\\nYour chances is finished the correct number is\",number)"
   ]
  },
  {
   "cell_type": "code",
   "execution_count": null,
   "metadata": {},
   "outputs": [],
   "source": []
  }
 ],
 "metadata": {
  "kernelspec": {
   "display_name": "Python 3",
   "language": "python",
   "name": "python3"
  },
  "language_info": {
   "codemirror_mode": {
    "name": "ipython",
    "version": 3
   },
   "file_extension": ".py",
   "mimetype": "text/x-python",
   "name": "python",
   "nbconvert_exporter": "python",
   "pygments_lexer": "ipython3",
   "version": "3.7.4"
  }
 },
 "nbformat": 4,
 "nbformat_minor": 2
}
