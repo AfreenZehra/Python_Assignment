{
 "cells": [
  {
   "cell_type": "code",
   "execution_count": 1,
   "metadata": {},
   "outputs": [
    {
     "name": "stdout",
     "output_type": "stream",
     "text": [
      "Enter your Computer Architecture Marks Out of 100: 78\n",
      "Enter your Software Engineering Marks Out of 100: 83\n",
      "Enter your Artificial Intelligence Marks Out of 100: 69\n",
      "Enter your Database Management Marks Out of 100: 89\n",
      "Enter your Digital Signal Processing Marks Out of 100: 91\n",
      "Your Total Marks are  410\n",
      "Your Percentage is  82.0\n",
      "A+ Grade!\n"
     ]
    }
   ],
   "source": [
    "course1=int(input(\"Enter your Computer Architecture Marks Out of 100: \"))\n",
    "course2=int(input(\"Enter your Software Engineering Marks Out of 100: \"))\n",
    "course3=int(input(\"Enter your Artificial Intelligence Marks Out of 100: \"))\n",
    "course4=int(input(\"Enter your Database Management Marks Out of 100: \"))\n",
    "course5=int(input(\"Enter your Digital Signal Processing Marks Out of 100: \"))\n",
    "total_marks=course1+course2+course3+course4+course5\n",
    "per=(total_marks/500)*100\n",
    "print(\"Your Total Marks are \",total_marks)\n",
    "print(\"Your Percentage is \",per)\n",
    "if per >= 80 and per <= 100:\n",
    "    print (\"A+ Grade!\")\n",
    "elif per >= 70 and per < 80:\n",
    "    print (\"A Grade!\")\n",
    "elif per >= 60 and per < 70:\n",
    "    print (\"B Grade!\")\n",
    "elif per >= 50 and per < 60:\n",
    "    print (\"C Grade!\")\n",
    "elif per >= 40 and per < 50:\n",
    "    print (\"D Grade!\")\n",
    "elif per >= 33 and per < 40:\n",
    "    print (\"E Grade!\")\n",
    "else:\n",
    "    print (\"You are Fail!!!\")"
   ]
  },
  {
   "cell_type": "code",
   "execution_count": 2,
   "metadata": {},
   "outputs": [
    {
     "name": "stdout",
     "output_type": "stream",
     "text": [
      "Enter a Random Number: 43\n",
      "Number is odd\n"
     ]
    }
   ],
   "source": [
    "number=int(input(\"Enter a Random Number: \"))\n",
    "if(number%2 == 0):\n",
    "    print(\"Number is even\")\n",
    "else:\n",
    "    print(\"Number is odd\")"
   ]
  },
  {
   "cell_type": "code",
   "execution_count": 3,
   "metadata": {},
   "outputs": [
    {
     "name": "stdout",
     "output_type": "stream",
     "text": [
      "Length of list is 7\n"
     ]
    }
   ],
   "source": [
    "my_list=[\"Afreen\",\"Zehra\",98,2,\"NED\",45,\"University\"]\n",
    "print(\"Length of list is\",len(my_list))"
   ]
  },
  {
   "cell_type": "code",
   "execution_count": 5,
   "metadata": {},
   "outputs": [
    {
     "name": "stdout",
     "output_type": "stream",
     "text": [
      "How Many Numbers You Want to Enter: 5\n",
      "Enter Number: 8\n",
      "Enter Number: 13\n",
      "Enter Number: 5\n",
      "Enter Number: 9\n",
      "Enter Number: 17\n",
      "Sum of List is 52\n"
     ]
    }
   ],
   "source": [
    "num=int(input(\"How Many Numbers You Want to Enter: \"))\n",
    "my_list=[]\n",
    "for n in range(num):\n",
    "    number=int(input(\"Enter Number: \"))\n",
    "    my_list.append(number)\n",
    "print(\"Sum of List is\",sum(my_list))"
   ]
  },
  {
   "cell_type": "code",
   "execution_count": 6,
   "metadata": {},
   "outputs": [
    {
     "name": "stdout",
     "output_type": "stream",
     "text": [
      "How Many Numbers You Want to Enter: 5\n",
      "Enter Number: 65\n",
      "Enter Number: 78\n",
      "Enter Number: 49\n",
      "Enter Number: 35\n",
      "Enter Number: 72\n",
      "Largest Number is  78\n"
     ]
    }
   ],
   "source": [
    "num=int(input(\"How Many Numbers You Want to Enter: \"))\n",
    "my_list = []\n",
    "for n in range(num):\n",
    "    number = int(input(\"Enter Number: \"))\n",
    "    my_list.append(number)\n",
    "max_num = my_list[0]\n",
    "for n in my_list:\n",
    "    if(max_num < n):\n",
    "        max_num = n\n",
    "print(\"Largest Number is \",max_num)"
   ]
  },
  {
   "cell_type": "code",
   "execution_count": 7,
   "metadata": {},
   "outputs": [
    {
     "name": "stdout",
     "output_type": "stream",
     "text": [
      "1\n",
      "1\n",
      "2\n",
      "3\n"
     ]
    }
   ],
   "source": [
    "a=[1,1,2,3,5,8,13,21,34,55,89]\n",
    "for n in a:\n",
    "    if(n < 5):\n",
    "        print(n)"
   ]
  },
  {
   "cell_type": "code",
   "execution_count": null,
   "metadata": {},
   "outputs": [],
   "source": []
  }
 ],
 "metadata": {
  "kernelspec": {
   "display_name": "Python 3",
   "language": "python",
   "name": "python3"
  },
  "language_info": {
   "codemirror_mode": {
    "name": "ipython",
    "version": 3
   },
   "file_extension": ".py",
   "mimetype": "text/x-python",
   "name": "python",
   "nbconvert_exporter": "python",
   "pygments_lexer": "ipython3",
   "version": "3.7.4"
  }
 },
 "nbformat": 4,
 "nbformat_minor": 2
}
