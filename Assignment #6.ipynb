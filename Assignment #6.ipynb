{
 "cells": [
  {
   "cell_type": "code",
   "execution_count": 1,
   "metadata": {},
   "outputs": [
    {
     "name": "stdout",
     "output_type": "stream",
     "text": [
      "\t\t\t\tDefination of Object Oriented Programming\n",
      "\n",
      "Object oriented programming is a paradigm based on the concepts of \"objects\",which can contain data in the form of fields \n",
      "and code, in the form of procedures (often known as methods).Real world object are each viewed as separate entities having \n",
      "their own state which is modified only by built in procedures, called methods.\n"
     ]
    }
   ],
   "source": [
    "print(\"\\t\\t\\t\\tDefination of Object Oriented Programming\")\n",
    "print(\"\\nObject oriented programming is a paradigm based on the concepts of \\\"objects\\\",\",end=\"\")\n",
    "print(\"which can contain data in the form of fields \\nand code, in the form of procedures (often known as methods).\",end=\"\")\n",
    "print(\"Real world object are each viewed as separate entities having \\ntheir own state which is \",end=\"\")\n",
    "print(\"modified only by built in procedures, called methods.\")"
   ]
  },
  {
   "cell_type": "code",
   "execution_count": 2,
   "metadata": {},
   "outputs": [
    {
     "name": "stdout",
     "output_type": "stream",
     "text": [
      "\t\t\tBenefits of OOP\n",
      "\n",
      "1. OOP provides a clear modular structure for programs.\n",
      "2. It implements real life scenario.\n",
      "3. It provides a simple way to solve complex problems.\n",
      "4. Implementation details are hidden from other modules and other modules has a clearly defined interface.\n",
      "5. Objects, Methods, Instance, Message Passing, inheritance are some important properties provided by these particular \n",
      "languages\n"
     ]
    }
   ],
   "source": [
    "print(\"\\t\\t\\tBenefits of OOP\")\n",
    "print(\"\\n1. OOP provides a clear modular structure for programs.\")\n",
    "print(\"2. It implements real life scenario.\")\n",
    "print(\"3. It provides a simple way to solve complex problems.\")\n",
    "print(\"4. Implementation details are hidden from other modules and other modules has a clearly defined interface.\")\n",
    "print(\"5. Objects, Methods, Instance, Message Passing, \",end=\"\")\n",
    "print(\"inheritance are some important properties provided by these particular \\nlanguages\")"
   ]
  },
  {
   "cell_type": "code",
   "execution_count": 3,
   "metadata": {},
   "outputs": [
    {
     "name": "stdout",
     "output_type": "stream",
     "text": [
      "FUCTION:\n",
      "A function is a piece of code that is called by name. It can be passed data to operate on (i.e. the parameters) and can \n",
      "optionally return data (the return value). All data that is passed to a function is explicitly passed.\n",
      "\n",
      "METHOD:\n",
      "A method is a piece of code that is called by a name that is associated with an object. In most respects it is identical to a function except for two key differences:\n",
      "\n",
      "1. A method is implicitly passed the object on which it was called.\n",
      "2. A method is able to operate on data that is contained within the class (remembering that an object is an instance of a \n",
      "   class - the class is the definition, the object is an instance of that data).\n"
     ]
    }
   ],
   "source": [
    "print(\"FUCTION:\")\n",
    "print(\"A function is a piece of code that is called by name. \",end=\"\")\n",
    "print(\"It can be passed data to operate on (i.e. the parameters) \",end=\"\")\n",
    "print(\"and can \\noptionally return data (the return value).\", end=\"\")\n",
    "print(\" All data that is passed to a function is explicitly passed.\")\n",
    "print(\"\\nMETHOD:\")\n",
    "print(\"A method is a piece of code that is called by a name that is associated with an object. \",end=\"\")\n",
    "print(\"In most respects it is identical to a function except for two key differences:\")\n",
    "print(\"\\n1. A method is implicitly passed the object on which it was called.\")\n",
    "print(\"2. A method is able to operate on data that is contained within the class \",end=\"\")\n",
    "print(\"(remembering that an object is an instance of a \\n   class - the class is the definition, \",end=\"\")\n",
    "print(\"the object is an instance of that data).\")"
   ]
  },
  {
   "cell_type": "code",
   "execution_count": 4,
   "metadata": {},
   "outputs": [
    {
     "name": "stdout",
     "output_type": "stream",
     "text": [
      "CLASS:\n",
      "A class is an entity that determines how an object will behave and what the object will contain. In other words, it is a blueprint or a set of instruction to build a specific type of object.\n",
      "\n",
      "OBJECT:\n",
      "An object is nothing but a self-contained component which consists of methods and properties to make a particular type of data useful. From a programming point of view, an object can be a data structure, a variable or a function. It has a memory \n",
      "location allocated. The object is designed as class hierarchies.\n",
      "\n",
      "ATTRIBUTE:\n",
      "Attributes are data stored inside a class or instance and represent the state or quality of the class or instance. In short, attributes store information about the instance.\n",
      "\n",
      "BEHAVIOUR:\n",
      "The behavior of an object is defined by its methods, which are the functions and subroutines defined within the object \n",
      "class. Without class methods, a class would simply be a structure.\n"
     ]
    }
   ],
   "source": [
    "print(\"CLASS:\")\n",
    "print(\"A class is an entity that determines how an object will behave and what the object will contain. \",end=\"\")\n",
    "print(\"In other words, it is a blueprint or a set of instruction to build a specific type of object.\")\n",
    "print(\"\\nOBJECT:\")\n",
    "print(\"An object is nothing but a self-contained component which consists of methods and properties to make a\",end=\"\")\n",
    "print(\" particular type of data useful. From a programming point of view, an object can be a data structure,\",end=\"\")\n",
    "print(\" a variable or a function. It has a memory \\nlocation allocated. The object is designed as class hierarchies.\")\n",
    "print(\"\\nATTRIBUTE:\")\n",
    "print(\"Attributes are data stored inside a class or instance and represent the state or quality of the class\",end=\"\")\n",
    "print(\" or instance. In short, attributes store information about the instance.\")\n",
    "print(\"\\nBEHAVIOUR:\")\n",
    "print(\"The behavior of an object is defined by its methods, which are the functions and subroutines defined\",end=\"\")\n",
    "print(\" within the object \\nclass. Without class methods, a class would simply be a structure.\")"
   ]
  },
  {
   "cell_type": "code",
   "execution_count": 5,
   "metadata": {},
   "outputs": [
    {
     "name": "stdout",
     "output_type": "stream",
     "text": [
      "Car1: Mercedes-Benz\n",
      "Make: Mercedes\n",
      "Released Year: 2018\n",
      "Model: AMG GT\n",
      "Color: Dark Blue\n",
      "\n",
      "Car2: Cultus\n",
      "Make: Suzuki\n",
      "Released Year: 2016\n",
      "Model: VXR\n",
      "Color: White\n",
      "\n",
      "Car3: Alto\n",
      "Make: Suzuki\n",
      "Released Year: 2017\n",
      "Model: VXL AGS\n",
      "Color: Gray\n",
      "\n",
      "\t\tCAR DETAILS!!\n",
      "\n",
      "CAR1\n",
      "Mercedes Mercedes-Benz AMG GT Released in 2018 of Dark Blue Color\n",
      "\n",
      "CAR2\n",
      "Suzuki Cultus VXR Released in 2016 of White Color\n",
      "\n",
      "CAR3\n",
      "Suzuki Alto VXL AGS Released in 2017 of Gray Color\n",
      "\n",
      "CAR4\n",
      "Toyota Prius L CVT Released in 2016 of Blue Color\n",
      "\n",
      "CAR5\n",
      "Toyota Corolla XLE Released in 2017 of Black Color\n"
     ]
    }
   ],
   "source": [
    "import os\n",
    "class car:\n",
    "    def __init__(self,name,make,year,model,color):\n",
    "        self.__name=name\n",
    "        self.__make=make\n",
    "        self.__year=year\n",
    "        self.__model=model\n",
    "        self.__color=color\n",
    "    def updatecolor(self):\n",
    "        color=input(\"Updated Color: \")\n",
    "        self.__color=color\n",
    "    def print(self):\n",
    "        print(self.__make,self.__name,self.__model,\"Released in\",self.__year,\"of\",self.__color,\"Color\")\n",
    "\n",
    "carname=input(\"Car1: \")\n",
    "carmake=input(\"Make: \")\n",
    "caryear=input(\"Released Year: \")\n",
    "carmodel=input(\"Model: \")\n",
    "carcolor=input(\"Color: \")\n",
    "car1=car(carname,carmake,caryear,carmodel,carcolor)\n",
    "\n",
    "carname=input(\"\\nCar2: \")\n",
    "carmake=input(\"Make: \")\n",
    "caryear=input(\"Released Year: \")\n",
    "carmodel=input(\"Model: \")\n",
    "carcolor=input(\"Color: \")\n",
    "car2=car(carname,carmake,caryear,carmodel,carcolor)\n",
    "\n",
    "carname=input(\"\\nCar3: \")\n",
    "carmake=input(\"Make: \")\n",
    "caryear=input(\"Released Year: \")\n",
    "carmodel=input(\"Model: \")\n",
    "carcolor=input(\"Color: \")\n",
    "car3=car(carname,carmake,caryear,carmodel,carcolor)\n",
    "\n",
    "car4=car(\"Prius\",\"Toyota\",2016,\"L CVT\",\"Blue\")\n",
    "\n",
    "car5=car(\"Corolla\",\"Toyota\",2017,\"XLE\",\"Black\")\n",
    "\n",
    "print(\"\\n\\t\\tCAR DETAILS!!\")\n",
    "print(\"\\nCAR1\")\n",
    "car1.print()\n",
    "print()\n",
    "print(\"CAR2\")\n",
    "car2.print()\n",
    "print()\n",
    "print(\"CAR3\")\n",
    "car3.print()\n",
    "print()\n",
    "print(\"CAR4\")\n",
    "car4.print()\n",
    "print()\n",
    "print(\"CAR5\")\n",
    "car5.print()"
   ]
  },
  {
   "cell_type": "code",
   "execution_count": null,
   "metadata": {},
   "outputs": [],
   "source": []
  }
 ],
 "metadata": {
  "kernelspec": {
   "display_name": "Python 3",
   "language": "python",
   "name": "python3"
  },
  "language_info": {
   "codemirror_mode": {
    "name": "ipython",
    "version": 3
   },
   "file_extension": ".py",
   "mimetype": "text/x-python",
   "name": "python",
   "nbconvert_exporter": "python",
   "pygments_lexer": "ipython3",
   "version": "3.7.5"
  }
 },
 "nbformat": 4,
 "nbformat_minor": 2
}
