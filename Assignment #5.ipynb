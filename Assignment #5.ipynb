{
 "cells": [
  {
   "cell_type": "code",
   "execution_count": 1,
   "metadata": {},
   "outputs": [
    {
     "name": "stdout",
     "output_type": "stream",
     "text": [
      "Enter non negative value: 6\n",
      "Factorial of  6 is 720\n"
     ]
    }
   ],
   "source": [
    "def factorial(num):\n",
    "    fact = 1\n",
    "    if(num == 0):\n",
    "        return 1\n",
    "    for i in range(num):\n",
    "        fact = fact * (i+1)\n",
    "    return fact\n",
    "\n",
    "num = int(input(\"Enter non negative value: \"))\n",
    "if(num >= 0):\n",
    "    fact = factorial(num)\n",
    "    print(\"Factorial of \",num,\"is\",fact)\n",
    "else:\n",
    "    print(\"Number is negative\")"
   ]
  },
  {
   "cell_type": "code",
   "execution_count": 2,
   "metadata": {},
   "outputs": [
    {
     "name": "stdout",
     "output_type": "stream",
     "text": [
      "Enter some string: Afreen Zehra\n",
      "Uppercase Letter = 2\n",
      "Lowercae Letter = 9\n"
     ]
    }
   ],
   "source": [
    "def string_test(s):\n",
    "    upper = 0\n",
    "    lower = 0\n",
    "    for i in s:\n",
    "        if (i.isupper()):\n",
    "            upper += 1\n",
    "        elif (i.islower()):\n",
    "            lower += 1\n",
    "        else:\n",
    "            pass\n",
    "    print(\"Uppercase Letter =\",upper)\n",
    "    print(\"Lowercae Letter =\",lower)\n",
    "my_string = input(\"Enter some string: \")\n",
    "string_test(my_string)"
   ]
  },
  {
   "cell_type": "code",
   "execution_count": 3,
   "metadata": {},
   "outputs": [
    {
     "name": "stdout",
     "output_type": "stream",
     "text": [
      "Even list is [2, 4, 54]\n"
     ]
    }
   ],
   "source": [
    "def even_num(numlist):\n",
    "    evenlist = []\n",
    "    for i in numlist:\n",
    "        if (i % 2 == 0):\n",
    "            evenlist.append(i)\n",
    "    print(\"Even list is\",evenlist)\n",
    "\n",
    "numlist = [2,1,5,4,7,3,9,13,54]\n",
    "even_num(numlist)"
   ]
  },
  {
   "cell_type": "code",
   "execution_count": 5,
   "metadata": {},
   "outputs": [
    {
     "name": "stdout",
     "output_type": "stream",
     "text": [
      "Enter String: Alif\n",
      "Alif is not Palindrome\n"
     ]
    }
   ],
   "source": [
    "def reverse(st):\n",
    "    return st[::-1]\n",
    "def palindrome(st):\n",
    "    rev = reverse(st)\n",
    "    if(rev == st):\n",
    "        print(st,\"is Palindrome\")\n",
    "    else:\n",
    "        print(st,\"is not Palindrome\")\n",
    "my_string = input(\"Enter String: \")\n",
    "palindrome(my_string)"
   ]
  },
  {
   "cell_type": "code",
   "execution_count": 6,
   "metadata": {},
   "outputs": [
    {
     "name": "stdout",
     "output_type": "stream",
     "text": [
      "Enter number to check whether it is prime or not: 16\n",
      "16 is not prime number\n"
     ]
    }
   ],
   "source": [
    "def is_prime_no(num):\n",
    "    if (num > 1):\n",
    "        maxi = 1\n",
    "        if (num == 2):\n",
    "            print(num,\"is prime number\")\n",
    "        else:\n",
    "            #Iterate from 2 to num\n",
    "            for i in range(2,num):\n",
    "                if (num % i == 0):\n",
    "                    print(num,\"is not prime number\")\n",
    "                    break\n",
    "                else:\n",
    "                    maxi += 1\n",
    "                    if (maxi == max(range(2,num))):\n",
    "                        print(num,\"is prime number\")\n",
    "    else:\n",
    "        print(num,\"is not prime number\")\n",
    "num = int(input(\"Enter number to check whether it is prime or not: \"))\n",
    "is_prime_no(num)"
   ]
  },
  {
   "cell_type": "code",
   "execution_count": 7,
   "metadata": {},
   "outputs": [
    {
     "name": "stdout",
     "output_type": "stream",
     "text": [
      "\t\tWelcome to Online Shopping\n",
      "\n",
      "\n",
      "What Do You Want To Buy: \n",
      "Item \t\tPrice\n",
      "1. Banana \t50 \n",
      "2. Apple \t60 \n",
      "3. Orange \t50 \n",
      "4. Pineapple \t240\n",
      "5. Kiwi \t320: 3\n",
      "Press e to exit: d\n",
      "\n",
      "\n",
      "\n",
      "Item \t\tPrice\n",
      "1. Banana \t50 \n",
      "2. Apple \t60 \n",
      "3. Orange \t50 \n",
      "4. Pineapple \t240\n",
      "5. Kiwi \t320: 4\n",
      "Press e to exit: s\n",
      "\n",
      "\n",
      "\n",
      "Item \t\tPrice\n",
      "1. Banana \t50 \n",
      "2. Apple \t60 \n",
      "3. Orange \t50 \n",
      "4. Pineapple \t240\n",
      "5. Kiwi \t320: 2\n",
      "Press e to exit: x\n",
      "\n",
      "\n",
      "\n",
      "Item \t\tPrice\n",
      "1. Banana \t50 \n",
      "2. Apple \t60 \n",
      "3. Orange \t50 \n",
      "4. Pineapple \t240\n",
      "5. Kiwi \t320: 5\n",
      "Press e to exit: e\n",
      "\n",
      "\n",
      "\n",
      "Your Shopping List\n",
      "Item \t\t Price\n",
      "Orange \t\t 50\n",
      "Pineapple \t 240\n",
      "Apple \t\t 60\n",
      "Kiwi \t\t 320\n",
      "Total Price is 670\n"
     ]
    }
   ],
   "source": [
    "def shopping_list(price,*shoppinglist):\n",
    "    print(\"Your Shopping List\")\n",
    "    print(\"Item \\t\\t Price\")\n",
    "    for i in shoppinglist:\n",
    "        for eachkey,eachvalue in i.items():\n",
    "            for eachval,eachval1 in eachvalue.items():\n",
    "                if(eachval==\"Pineapple\"):\n",
    "                    print(eachval,\"\\t\",eachval1)\n",
    "                else:\n",
    "                    print(eachval,\"\\t\\t\",eachval1)\n",
    "    print(\"Total Price is\",price)\n",
    "\n",
    "exit = 'cont'\n",
    "shoppinglist = {}\n",
    "price = 0\n",
    "print(\"\\t\\tWelcome to Online Shopping\\n\\n\")\n",
    "print(\"What Do You Want To Buy: \")\n",
    "while(exit != 'e'):\n",
    "    print(\"Item \\t\\tPrice\")\n",
    "    print(\"1. Banana \\t50 \\n2. Apple \\t60 \\n3. Orange \\t50 \\n4. Pineapple \\t240\")\n",
    "    option = int(input(\"5. Kiwi \\t320: \"))\n",
    "    if(option == 1):\n",
    "        shoppinglist[1] = {\"Banana\":50}\n",
    "        price += 50\n",
    "    elif(option == 2):\n",
    "        shoppinglist[2] = {\"Apple\":60}\n",
    "        price += 60\n",
    "    elif(option == 3):\n",
    "        shoppinglist[3] = {\"Orange\":50}\n",
    "        price += 50\n",
    "    elif(option == 4):\n",
    "        shoppinglist[4] = {\"Pineapple\":240}\n",
    "        price += 240\n",
    "    elif(option == 5):\n",
    "        shoppinglist[5] = {\"Kiwi\":320}\n",
    "        price += 320\n",
    "    else:\n",
    "        print(\"Invalid Option\")\n",
    "    exit = (input(\"Press e to exit: \"))\n",
    "    print(\"\\n\\n\")\n",
    "shopping_list(price,shoppinglist)"
   ]
  },
  {
   "cell_type": "code",
   "execution_count": null,
   "metadata": {},
   "outputs": [],
   "source": []
  }
 ],
 "metadata": {
  "kernelspec": {
   "display_name": "Python 3",
   "language": "python",
   "name": "python3"
  },
  "language_info": {
   "codemirror_mode": {
    "name": "ipython",
    "version": 3
   },
   "file_extension": ".py",
   "mimetype": "text/x-python",
   "name": "python",
   "nbconvert_exporter": "python",
   "pygments_lexer": "ipython3",
   "version": "3.7.3"
  }
 },
 "nbformat": 4,
 "nbformat_minor": 2
}
