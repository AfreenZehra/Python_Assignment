{
 "cells": [
  {
   "cell_type": "code",
   "execution_count": 1,
   "metadata": {},
   "outputs": [
    {
     "name": "stdout",
     "output_type": "stream",
     "text": [
      "Enter 1st Operand: 43\n",
      "Enter 2nd Operand: 71\n",
      "Select Your Operation Number: \n",
      "1. Addition\n",
      "2. Subtraction\n",
      "3. Multiplication\n",
      "4. Division\n",
      "5. Power: 2\n",
      "Answer is -28\n"
     ]
    }
   ],
   "source": [
    "first_operand = int(input('Enter 1st Operand: '))\n",
    "second_operand = int(input('Enter 2nd Operand: '))\n",
    "print('Select Your Operation Number: ')\n",
    "print('1. Addition')\n",
    "print('2. Subtraction')\n",
    "print('3. Multiplication')\n",
    "print('4. Division')\n",
    "operator = input('5. Power: ')\n",
    "if(operator == '1'):\n",
    "    result = first_operand + second_operand\n",
    "    print('Answer is',result)\n",
    "elif(operator == '2'):\n",
    "    result = first_operand - second_operand\n",
    "    print('Answer is',result)\n",
    "elif(operator == '3'):\n",
    "    result = first_operand * second_operand\n",
    "    print('Answer is',result)\n",
    "elif(operator == '4'):\n",
    "    result = first_operand / second_operand\n",
    "    print('Answer is',result)\n",
    "elif(operator == '5'):\n",
    "    result = first_operand ** second_operand\n",
    "    print('Answer is',result)\n",
    "else:\n",
    "    print('Try Again!! Something Went Wrong')"
   ]
  },
  {
   "cell_type": "code",
   "execution_count": 2,
   "metadata": {},
   "outputs": [
    {
     "name": "stdout",
     "output_type": "stream",
     "text": [
      "28 This is a numeric value\n",
      "Afreen This is not a numeric value\n",
      "Zehra This is not a numeric value\n",
      "23 This is a numeric value\n",
      "93 This is not a numeric value\n",
      "48 This is a numeric value\n",
      "NED This is not a numeric value\n",
      "57 This is a numeric value\n"
     ]
    }
   ],
   "source": [
    "my_list = [28,'Afreen','Zehra',23,'93',48,'NED',57]\n",
    "for i in my_list:\n",
    "    if isinstance(i, int):\n",
    "        print(i,'This is a numeric value')\n",
    "    else:\n",
    "        print(i,'This is not a numeric value')"
   ]
  },
  {
   "cell_type": "code",
   "execution_count": 3,
   "metadata": {},
   "outputs": [
    {
     "name": "stdout",
     "output_type": "stream",
     "text": [
      "{'First_name': 'Afreen', 'Last_name': 'Zehra', 'Roll_no': 28}\n",
      "28\n",
      "{'First_name': 'Afreen', 'Last_name': 'Zehra', 'Roll_no': 28, 'Id': '124'}\n",
      "124\n"
     ]
    }
   ],
   "source": [
    "details={\"First_name\":\"Afreen\",\"Last_name\":\"Zehra\",\"Roll_no\":28}\n",
    "print(details)\n",
    "print(details[\"Roll_no\"])\n",
    "details[\"Id\"]=\"124\"\n",
    "print(details)\n",
    "print(details[\"Id\"])"
   ]
  },
  {
   "cell_type": "code",
   "execution_count": 4,
   "metadata": {},
   "outputs": [
    {
     "name": "stdout",
     "output_type": "stream",
     "text": [
      "40 Answer\n"
     ]
    }
   ],
   "source": [
    "details={\"First_name\":\"Afreen\",\"Last_name\":\"Zehra\",\"Roll_no\":28,\"Id\":12}\n",
    "result = 0\n",
    "for i in details.values():\n",
    "    if isinstance(i,int):\n",
    "        result += i\n",
    "print(result,'Answer')"
   ]
  },
  {
   "cell_type": "code",
   "execution_count": 5,
   "metadata": {},
   "outputs": [
    {
     "name": "stdout",
     "output_type": "stream",
     "text": [
      "17 is duplicate\n",
      "28 is duplicate\n",
      "Navaid is duplicate\n",
      "Afreen is duplicate\n"
     ]
    }
   ],
   "source": [
    "my=[28,17,'Afreen','Navaid',17,86,'Zehra',28,'Fariha','Navaid',54,18,'Afreen']\n",
    "dup=[]\n",
    "for i in my:\n",
    "    for j in dup:\n",
    "        if (i == j):\n",
    "            print(i,'is duplicate')\n",
    "    dup.append(i)"
   ]
  },
  {
   "cell_type": "code",
   "execution_count": 6,
   "metadata": {},
   "outputs": [
    {
     "name": "stdout",
     "output_type": "stream",
     "text": [
      "Enter any key: Last_name\n",
      "Present, value = Zehra\n"
     ]
    }
   ],
   "source": [
    "details={\"First_name\":\"Afreen\",\"Last_name\":\"Zehra\",\"Roll_no\":28,\"Id\":12}\n",
    "key = input(\"Enter any key: \")\n",
    "if key in details.keys():\n",
    "    print(\"Present,\", end =\" \")\n",
    "    print(\"value =\", details[key]) \n",
    "else: \n",
    "    print(\"Not present\")"
   ]
  },
  {
   "cell_type": "code",
   "execution_count": null,
   "metadata": {},
   "outputs": [],
   "source": []
  }
 ],
 "metadata": {
  "kernelspec": {
   "display_name": "Python 3",
   "language": "python",
   "name": "python3"
  },
  "language_info": {
   "codemirror_mode": {
    "name": "ipython",
    "version": 3
   },
   "file_extension": ".py",
   "mimetype": "text/x-python",
   "name": "python",
   "nbconvert_exporter": "python",
   "pygments_lexer": "ipython3",
   "version": "3.7.4"
  }
 },
 "nbformat": 4,
 "nbformat_minor": 2
}
